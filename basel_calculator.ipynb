{
  "nbformat": 4,
  "nbformat_minor": 0,
  "metadata": {
    "colab": {
      "provenance": []
    },
    "kernelspec": {
      "name": "python3",
      "display_name": "Python 3"
    },
    "language_info": {
      "name": "python"
    }
  },
  "cells": [
    {
      "cell_type": "code",
      "source": [
        "import pandas as pd\n",
        "import matplotlib.pyplot as plt\n",
        "import io\n",
        "\n",
        "data_string = \"\"\"Asset,Exposure,Risk_Weight,Tier1_Capital,Tier2_Capital\n",
        "Corporate Loans,5000000,0.4,250000,60000\n",
        "Retail Loans,3000000,0.70,200000,50000\n",
        "Sovereign Bonds,2000000,0.05,150000,30000\n",
        "Mortgage Loans,4000000,0.20,200000,40000\n",
        "Trading Book,1500000,0.80,100000,20000\n",
        "\"\"\"\n",
        "\n",
        "class BaselCalculator:\n",
        "    def __init__(self, data):\n",
        "        \"\"\"\n",
        "        data: DataFrame with columns ['Asset', 'Exposure', 'Risk_Weight', 'Tier1_Capital', 'Tier2_Capital']\n",
        "        \"\"\"\n",
        "        self.data = data\n",
        "\n",
        "    def calculate_rwa(self):\n",
        "        self.data['RWA'] = self.data['Exposure'] * self.data['Risk_Weight']\n",
        "        total_rwa = self.data['RWA'].sum()\n",
        "        return total_rwa\n",
        "\n",
        "    def calculate_capital(self):\n",
        "        tier1 = self.data['Tier1_Capital'].sum()\n",
        "        tier2 = self.data['Tier2_Capital'].sum()\n",
        "        return tier1, tier2\n",
        "\n",
        "    def calculate_car(self, min_rwa_threshold=8): # Added min_rwa_threshold as a parameter\n",
        "        total_rwa = self.calculate_rwa()\n",
        "        tier1, tier2 = self.calculate_capital()\n",
        "        total_capital = tier1 + tier2\n",
        "        # Basel III/IV requires total capital to be at least 8% of RWA\n",
        "        car = (total_capital / total_rwa) * 100 if total_rwa > 0 else 0 # Added check for total_rwa > 0\n",
        "        return car\n",
        "\n",
        "    def capital_shortfall(self, min_car=10.5):\n",
        "        car = self.calculate_car()\n",
        "        if car < min_car:\n",
        "            return f\"Capital shortfall detected! Increase capital by {(min_car - car):.2f}% of RWA.\"\n",
        "        else:\n",
        "            return \"Capital adequacy met.\"\n",
        "\n",
        "    def report(self):\n",
        "        print(\"===== Basel III/IV Capital Requirement Report =====\")\n",
        "        print(f\"Total RWA: {self.calculate_rwa():,.2f}\")\n",
        "        t1, t2 = self.calculate_capital()\n",
        "        print(f\"Tier 1 Capital: {t1:,.2f}\")\n",
        "        print(f\"Tier 2 Capital: {t2:,.2f}\")\n",
        "        print(f\"Capital Adequacy Ratio (CAR): {self.calculate_car():.2f}%\")\n",
        "        print(self.capital_shortfall())\n",
        "\n",
        "    def plot_capital_structure(self):\n",
        "        t1, t2 = self.calculate_capital()\n",
        "        plt.bar([\"Tier 1\", \"Tier 2\"], [t1, t2], color=[\"blue\", \"orange\"])\n",
        "        plt.title(\"Capital Structure\")\n",
        "        plt.ylabel(\"Capital Amount\")\n",
        "        plt.show()\n",
        "\n",
        "# Create DataFrame from the data string\n",
        "df = pd.read_csv(io.StringIO(data_string))\n",
        "\n",
        "# Instantiate the calculator and run the report\n",
        "calculator = BaselCalculator(df)\n",
        "calculator.report()\n",
        "\n",
        "# Plot the capital structure\n",
        "calculator.plot_capital_structure()"
      ],
      "metadata": {
        "colab": {
          "base_uri": "https://localhost:8080/",
          "height": 561
        },
        "id": "mDXGa96JCtOc",
        "outputId": "9fd5d154-427a-4194-8177-bd5d447e0479"
      },
      "execution_count": 6,
      "outputs": [
        {
          "output_type": "stream",
          "name": "stdout",
          "text": [
            "===== Basel III/IV Capital Requirement Report =====\n",
            "Total RWA: 6,200,000.00\n",
            "Tier 1 Capital: 900,000.00\n",
            "Tier 2 Capital: 200,000.00\n",
            "Capital Adequacy Ratio (CAR): 17.74%\n",
            "Capital adequacy met.\n"
          ]
        },
        {
          "output_type": "display_data",
          "data": {
            "text/plain": [
              "<Figure size 640x480 with 1 Axes>"
            ],
            "image/png": "[encoded data removed]"
          },
          "metadata": {}
        }
      ]
    }
  ]
}